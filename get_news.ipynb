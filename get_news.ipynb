{
  "cells": [
    {
      "cell_type": "code",
      "execution_count": 1,
      "metadata": {},
      "outputs": [
        {
          "data": {
            "text/html": [
              "<div>\n",
              "<style scoped>\n",
              "    .dataframe tbody tr th:only-of-type {\n",
              "        vertical-align: middle;\n",
              "    }\n",
              "\n",
              "    .dataframe tbody tr th {\n",
              "        vertical-align: top;\n",
              "    }\n",
              "\n",
              "    .dataframe thead th {\n",
              "        text-align: right;\n",
              "    }\n",
              "</style>\n",
              "<table border=\"1\" class=\"dataframe\">\n",
              "  <thead>\n",
              "    <tr style=\"text-align: right;\">\n",
              "      <th></th>\n",
              "      <th>title</th>\n",
              "    </tr>\n",
              "    <tr>\n",
              "      <th>date</th>\n",
              "      <th></th>\n",
              "    </tr>\n",
              "  </thead>\n",
              "  <tbody>\n",
              "    <tr>\n",
              "      <th>2020-01-30 08:00:00+00:00</th>\n",
              "      <td>Action taken against bitcoin fraud in France a...</td>\n",
              "    </tr>\n",
              "    <tr>\n",
              "      <th>2020-01-06 08:00:00+00:00</th>\n",
              "      <td>Bitcoin: Should cryptocurrency owners make a w...</td>\n",
              "    </tr>\n",
              "    <tr>\n",
              "      <th>2020-01-28 08:00:00+00:00</th>\n",
              "      <td>Bitcoin Has Lost Steam. But Criminals Still Lo...</td>\n",
              "    </tr>\n",
              "    <tr>\n",
              "      <th>2020-01-06 08:00:00+00:00</th>\n",
              "      <td>Bitcoin's threat to the global financial syste...</td>\n",
              "    </tr>\n",
              "    <tr>\n",
              "      <th>2020-01-30 08:00:00+00:00</th>\n",
              "      <td>Bitcoin, blockchain and coffee</td>\n",
              "    </tr>\n",
              "    <tr>\n",
              "      <th>...</th>\n",
              "      <td>...</td>\n",
              "    </tr>\n",
              "    <tr>\n",
              "      <th>2022-12-20 08:00:00+00:00</th>\n",
              "      <td>Bitcoin Tied to Quadriga Scandal Moved in Unau...</td>\n",
              "    </tr>\n",
              "    <tr>\n",
              "      <th>2022-12-22 08:00:00+00:00</th>\n",
              "      <td>Bitcoin miner Core Scientific approved for $37...</td>\n",
              "    </tr>\n",
              "    <tr>\n",
              "      <th>2022-12-15 08:00:00+00:00</th>\n",
              "      <td>Bitcoin drops following Fed decision after top...</td>\n",
              "    </tr>\n",
              "    <tr>\n",
              "      <th>2022-12-29 08:00:00+00:00</th>\n",
              "      <td>Bitcoin Seen Dropping Lower Before Shooting Ba...</td>\n",
              "    </tr>\n",
              "    <tr>\n",
              "      <th>2022-12-19 08:00:00+00:00</th>\n",
              "      <td>Bitcoin Taproot address now supported on Kraken</td>\n",
              "    </tr>\n",
              "  </tbody>\n",
              "</table>\n",
              "<p>3576 rows × 1 columns</p>\n",
              "</div>"
            ],
            "text/plain": [
              "                                                                       title\n",
              "date                                                                        \n",
              "2020-01-30 08:00:00+00:00  Action taken against bitcoin fraud in France a...\n",
              "2020-01-06 08:00:00+00:00  Bitcoin: Should cryptocurrency owners make a w...\n",
              "2020-01-28 08:00:00+00:00  Bitcoin Has Lost Steam. But Criminals Still Lo...\n",
              "2020-01-06 08:00:00+00:00  Bitcoin's threat to the global financial syste...\n",
              "2020-01-30 08:00:00+00:00                     Bitcoin, blockchain and coffee\n",
              "...                                                                      ...\n",
              "2022-12-20 08:00:00+00:00  Bitcoin Tied to Quadriga Scandal Moved in Unau...\n",
              "2022-12-22 08:00:00+00:00  Bitcoin miner Core Scientific approved for $37...\n",
              "2022-12-15 08:00:00+00:00  Bitcoin drops following Fed decision after top...\n",
              "2022-12-29 08:00:00+00:00  Bitcoin Seen Dropping Lower Before Shooting Ba...\n",
              "2022-12-19 08:00:00+00:00    Bitcoin Taproot address now supported on Kraken\n",
              "\n",
              "[3576 rows x 1 columns]"
            ]
          },
          "execution_count": 1,
          "metadata": {},
          "output_type": "execute_result"
        }
      ],
      "source": [
        "from news_retreiver import NewsRetriever\n",
        "\n",
        "query = 'bitcoin'\n",
        "\n",
        "date_ranges = [\n",
        "    ('2020-01-01', '2020-01-31'), ('2020-02-01', '2020-02-29'), ('2020-03-01', '2020-03-31'),\n",
        "    ('2020-04-01', '2020-04-30'), ('2020-05-01', '2020-05-31'), ('2020-06-01', '2020-06-30'),\n",
        "    ('2020-07-01', '2020-07-31'), ('2020-08-01', '2020-08-31'), ('2020-09-01', '2020-09-30'),\n",
        "    ('2020-10-01', '2020-10-31'), ('2020-11-01', '2020-11-30'), ('2020-12-01', '2020-12-31'),\n",
        "    ('2021-01-01', '2021-01-31'), ('2021-02-01', '2021-02-28'), ('2021-03-01', '2021-03-31'),\n",
        "    ('2021-04-01', '2021-04-30'), ('2021-05-01', '2021-05-31'), ('2021-06-01', '2021-06-30'),\n",
        "    ('2021-07-01', '2021-07-31'), ('2021-08-01', '2021-08-31'), ('2021-09-01', '2021-09-30'),\n",
        "    ('2021-10-01', '2021-10-31'), ('2021-11-01', '2021-11-30'), ('2021-12-01', '2021-12-31'),\n",
        "    ('2022-01-01', '2022-01-31'), ('2022-02-01', '2022-02-28'), ('2022-03-01', '2022-03-31'),\n",
        "    ('2022-04-01', '2022-04-30'), ('2022-05-01', '2022-05-31'), ('2022-06-01', '2022-06-30'),\n",
        "    ('2022-07-01', '2022-07-31'), ('2022-08-01', '2022-08-31'), ('2022-09-01', '2022-09-30'),\n",
        "    ('2022-10-01', '2022-10-31'), ('2022-11-01', '2022-11-30'), ('2022-12-01', '2022-12-31')\n",
        "]\n",
        "\n",
        "base_url = \"\"\n",
        "\n",
        "scraper = NewsRetriever(base_url)\n",
        "data = scraper.fetch_news(query, date_ranges)\n",
        "data"
      ]
    },
    {
      "cell_type": "code",
      "execution_count": 2,
      "metadata": {},
      "outputs": [
        {
          "name": "stdout",
          "output_type": "stream",
          "text": [
            "Data saved to news_bitcoin_2020-01-01_2022-12-31.csv\n"
          ]
        }
      ],
      "source": [
        "scraper.save_to_csv(data)"
      ]
    }
  ],
  "metadata": {
    "kernelspec": {
      "display_name": ".venv",
      "language": "python",
      "name": "python3"
    },
    "language_info": {
      "codemirror_mode": {
        "name": "ipython",
        "version": 3
      },
      "file_extension": ".py",
      "mimetype": "text/x-python",
      "name": "python",
      "nbconvert_exporter": "python",
      "pygments_lexer": "ipython3",
      "version": "3.12.1"
    }
  },
  "nbformat": 4,
  "nbformat_minor": 2
}
